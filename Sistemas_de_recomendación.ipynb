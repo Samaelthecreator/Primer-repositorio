{
  "cells": [
    {
      "cell_type": "markdown",
      "metadata": {
        "id": "view-in-github",
        "colab_type": "text"
      },
      "source": [
        "<a href=\"https://colab.research.google.com/github/Samaelthecreator/Primer-repositorio/blob/main/Sistemas_de_recomendaci%C3%B3n.ipynb\" target=\"_parent\"><img src=\"https://colab.research.google.com/assets/colab-badge.svg\" alt=\"Open In Colab\"/></a>"
      ]
    },
    {
      "cell_type": "code",
      "execution_count": null,
      "metadata": {
        "id": "fsmnQQm95JrG"
      },
      "outputs": [],
      "source": []
    },
    {
      "cell_type": "markdown",
      "metadata": {
        "id": "2hDNalca5UMN"
      },
      "source": [
        "# Caso de Estudio 4.1 - Sistema de recomendación de películas.\n",
        "\n",
        "El caso se realizará con una base de datos obtenida de https://grouplens.org/\n"
      ]
    },
    {
      "cell_type": "markdown",
      "metadata": {
        "id": "GmBw88to6MpL"
      },
      "source": [
        "# Información del contacto;\n",
        "Nombre: René Samael Flores Ortega\n",
        "\n",
        "Correo: samaelflores1009@gmail.com"
      ]
    },
    {
      "cell_type": "code",
      "execution_count": null,
      "metadata": {
        "colab": {
          "base_uri": "https://localhost:8080/"
        },
        "id": "j9YSKjr45uoz",
        "outputId": "b24261bd-3e88-4c22-992d-2f035c79c397"
      },
      "outputs": [
        {
          "name": "stdout",
          "output_type": "stream",
          "text": [
            "Requirement already satisfied: pip in /usr/local/lib/python3.10/dist-packages (23.1.2)\n",
            "Collecting pip\n",
            "  Downloading pip-23.3.2-py3-none-any.whl (2.1 MB)\n",
            "\u001b[2K     \u001b[90m━━━━━━━━━━━━━━━━━━━━━━━━━━━━━━━━━━━━━━━━\u001b[0m \u001b[32m2.1/2.1 MB\u001b[0m \u001b[31m6.4 MB/s\u001b[0m eta \u001b[36m0:00:00\u001b[0m\n",
            "\u001b[?25hInstalling collected packages: pip\n",
            "  Attempting uninstall: pip\n",
            "    Found existing installation: pip 23.1.2\n",
            "    Uninstalling pip-23.1.2:\n",
            "      Successfully uninstalled pip-23.1.2\n",
            "Successfully installed pip-23.3.2\n",
            "Collecting surprise==0.1\n",
            "  Downloading surprise-0.1-py2.py3-none-any.whl (1.8 kB)\n",
            "Collecting scikit-surprise (from surprise==0.1)\n",
            "  Downloading scikit-surprise-1.1.3.tar.gz (771 kB)\n",
            "\u001b[2K     \u001b[90m━━━━━━━━━━━━━━━━━━━━━━━━━━━━━━━━━━━━━━━━\u001b[0m \u001b[32m772.0/772.0 kB\u001b[0m \u001b[31m6.8 MB/s\u001b[0m eta \u001b[36m0:00:00\u001b[0m\n",
            "\u001b[?25h  Preparing metadata (setup.py) ... \u001b[?25l\u001b[?25hdone\n",
            "Requirement already satisfied: joblib>=1.0.0 in /usr/local/lib/python3.10/dist-packages (from scikit-surprise->surprise==0.1) (1.3.2)\n",
            "Requirement already satisfied: numpy>=1.17.3 in /usr/local/lib/python3.10/dist-packages (from scikit-surprise->surprise==0.1) (1.23.5)\n",
            "Requirement already satisfied: scipy>=1.3.2 in /usr/local/lib/python3.10/dist-packages (from scikit-surprise->surprise==0.1) (1.11.4)\n",
            "Building wheels for collected packages: scikit-surprise\n",
            "  Building wheel for scikit-surprise (setup.py) ... \u001b[?25l\u001b[?25hdone\n",
            "  Created wheel for scikit-surprise: filename=scikit_surprise-1.1.3-cp310-cp310-linux_x86_64.whl size=3163705 sha256=718b8a751cbd0ee6260deab8712a690e02b10517c672af9e746b9364e885add6\n",
            "  Stored in directory: /root/.cache/pip/wheels/a5/ca/a8/4e28def53797fdc4363ca4af740db15a9c2f1595ebc51fb445\n",
            "Successfully built scikit-surprise\n",
            "Installing collected packages: scikit-surprise, surprise\n",
            "Successfully installed scikit-surprise-1.1.3 surprise-0.1\n",
            "\u001b[33mWARNING: Running pip as the 'root' user can result in broken permissions and conflicting behaviour with the system package manager. It is recommended to use a virtual environment instead: https://pip.pypa.io/warnings/venv\u001b[0m\u001b[33m\n",
            "\u001b[0m"
          ]
        }
      ],
      "source": [
        "#Importaremos las librerias que necesitamos\n",
        "!pip install --upgrade pip\n",
        "!pip install surprise==0.1"
      ]
    },
    {
      "cell_type": "code",
      "execution_count": 34,
      "metadata": {
        "colab": {
          "base_uri": "https://localhost:8080/"
        },
        "id": "iW3TA4a16LWB",
        "outputId": "6405adda-d53a-4d02-d11b-8162d47081a9"
      },
      "outputs": [
        {
          "output_type": "stream",
          "name": "stdout",
          "text": [
            "Mounted at /content/drive\n"
          ]
        }
      ],
      "source": [
        "import pandas as pd         #Para la manipulación de datos\n",
        "import matplotlib\n",
        "import matplotlib.pyplot as plt\n",
        "from surprise import Dataset, SVD, NormalPredictor, BaselineOnly, KNNBasic, NMF\n",
        "from surprise.model_selection import cross_validate, KFold\n",
        "%matplotlib inline\n",
        "from google.colab import drive\n",
        "drive.mount('/content/drive')"
      ]
    },
    {
      "cell_type": "markdown",
      "metadata": {
        "id": "Rs1QBex27kFm"
      },
      "source": [
        "# Datos & visualizaciones"
      ]
    },
    {
      "cell_type": "code",
      "execution_count": null,
      "metadata": {
        "colab": {
          "base_uri": "https://localhost:8080/"
        },
        "id": "bC0p74SB6SFk",
        "outputId": "0ddcffd6-6fa5-4018-dabd-86531b8e5e29"
      },
      "outputs": [
        {
          "name": "stdout",
          "output_type": "stream",
          "text": [
            "Dataset ml-100k could not be found. Do you want to download it? [Y/n] Y\n",
            "Trying to download dataset from https://files.grouplens.org/datasets/movielens/ml-100k.zip...\n",
            "Done! Dataset ml-100k has been saved to /root/.surprise_data/ml-100k\n"
          ]
        }
      ],
      "source": [
        "#Importaremos el dataset con nombre 'ml-100k'  con el comando Dataset.load_builtin\n",
        "\n",
        "db = Dataset.load_builtin('ml-100k')\n",
        "\n"
      ]
    },
    {
      "cell_type": "code",
      "execution_count": null,
      "metadata": {
        "colab": {
          "base_uri": "https://localhost:8080/"
        },
        "id": "rrVoxjqn_oMG",
        "outputId": "f8236bf5-a5d7-4cf0-a05c-9c760fdf799e"
      },
      "outputs": [
        {
          "data": {
            "text/plain": [
              "pandas.core.frame.DataFrame"
            ]
          },
          "execution_count": 27,
          "metadata": {},
          "output_type": "execute_result"
        }
      ],
      "source": [
        "archivo_valoraciones =  db.ratings_file #de la base de datos escojemos el archivo rating files\n",
        "#le damos un esquema dentro de colab\n",
        "datos = pd.read_table(archivo_valoraciones, names = ['user_id', 'item_id', 'rating', 'timestamp'])\n",
        "#Transformamos a tipo dataframe\n",
        "Data = pd.DataFrame(datos)\n",
        "\n"
      ]
    },
    {
      "cell_type": "code",
      "source": [
        "print(Data)"
      ],
      "metadata": {
        "colab": {
          "base_uri": "https://localhost:8080/"
        },
        "id": "2_0CVKlcNHnd",
        "outputId": "58978ecb-f903-40b5-cc05-f098c6c331ed"
      },
      "execution_count": 35,
      "outputs": [
        {
          "output_type": "stream",
          "name": "stdout",
          "text": [
            "       user_id  item_id  rating  timestamp\n",
            "0          196      242       3  881250949\n",
            "1          186      302       3  891717742\n",
            "2           22      377       1  878887116\n",
            "3          244       51       2  880606923\n",
            "4          166      346       1  886397596\n",
            "...        ...      ...     ...        ...\n",
            "99995      880      476       3  880175444\n",
            "99996      716      204       5  879795543\n",
            "99997      276     1090       1  874795795\n",
            "99998       13      225       2  882399156\n",
            "99999       12      203       3  879959583\n",
            "\n",
            "[100000 rows x 4 columns]\n"
          ]
        }
      ]
    },
    {
      "cell_type": "code",
      "execution_count": null,
      "metadata": {
        "colab": {
          "base_uri": "https://localhost:8080/",
          "height": 546
        },
        "id": "LLLKutEqBaF5",
        "outputId": "313e9d07-028e-4a64-90ed-9920c54fa140"
      },
      "outputs": [
        {
          "name": "stdout",
          "output_type": "stream",
          "text": [
            "1     6.110\n",
            "2    11.370\n",
            "3    27.145\n",
            "4    34.174\n",
            "5    21.201\n",
            "Name: rating, dtype: float64\n"
          ]
        },
        {
          "data": {
            "text/plain": [
              "<Axes: >"
            ]
          },
          "execution_count": 49,
          "metadata": {},
          "output_type": "execute_result"
        },
        {
          "data": {
            "image/png": "[encoded data removed]",
            "text/plain": [
              "<Figure size 640x480 with 1 Axes>"
            ]
          },
          "metadata": {},
          "output_type": "display_data"
        }
      ],
      "source": [
        "puntuaciones = Data.rating\n",
        "item = Data.item_id\n",
        "usuarios = Data.user_id\n",
        "\n",
        "print((puntuaciones.value_counts(normalize = True).sort_index())*100)\n",
        "\n",
        "#Realizamos un histograma pata las puntuaciones\n",
        "((puntuaciones.value_counts(normalize=True).sort_index())*100).plot.bar()\n"
      ]
    },
    {
      "cell_type": "code",
      "execution_count": null,
      "metadata": {
        "colab": {
          "base_uri": "https://localhost:8080/",
          "height": 468
        },
        "id": "PqcLWfUDM1ki",
        "outputId": "cdaa6c98-c316-4ef5-bf7a-589a8a5e97eb"
      },
      "outputs": [
        {
          "data": {
            "text/plain": [
              "<Axes: >"
            ]
          },
          "execution_count": 45,
          "metadata": {},
          "output_type": "execute_result"
        },
        {
          "data": {
            "image/png": "[encoded data removed]",
            "text/plain": [
              "<Figure size 640x480 with 1 Axes>"
            ]
          },
          "metadata": {},
          "output_type": "display_data"
        }
      ],
      "source": [
        "#Para los items\n",
        "print(item.value_counts().sort_index())\n",
        "item.value_counts().sort_index().plot.bar()"
      ]
    },
    {
      "cell_type": "code",
      "execution_count": null,
      "metadata": {
        "colab": {
          "base_uri": "https://localhost:8080/",
          "height": 668
        },
        "id": "FfaMiQ3KOblg",
        "outputId": "8a7e897b-b8dd-4636-9c97-17ce773ba1fc"
      },
      "outputs": [
        {
          "name": "stdout",
          "output_type": "stream",
          "text": [
            "<bound method Series.sort_index of 405    737\n",
            "655    685\n",
            "13     636\n",
            "450    540\n",
            "276    518\n",
            "      ... \n",
            "441     20\n",
            "36      20\n",
            "812     20\n",
            "895     20\n",
            "93      20\n",
            "Name: user_id, Length: 943, dtype: int64>\n"
          ]
        },
        {
          "data": {
            "text/plain": [
              "<Axes: >"
            ]
          },
          "execution_count": 51,
          "metadata": {},
          "output_type": "execute_result"
        },
        {
          "data": {
            "image/png": "[encoded data removed]",
            "text/plain": [
              "<Figure size 640x480 with 1 Axes>"
            ]
          },
          "metadata": {},
          "output_type": "display_data"
        }
      ],
      "source": [
        "#Para los usuarios\n",
        "print(usuarios.value_counts().sort_index)\n",
        "usuarios.value_counts().sort_index().plot.bar()"
      ]
    },
    {
      "cell_type": "code",
      "execution_count": null,
      "metadata": {
        "colab": {
          "base_uri": "https://localhost:8080/"
        },
        "id": "K9ACiZf0PowS",
        "outputId": "b49cd2a3-5ca1-433d-fd25-0f5a8a2200c1"
      },
      "outputs": [
        {
          "name": "stdout",
          "output_type": "stream",
          "text": [
            "<bound method NDFrame.describe of        user_id  item_id  rating  timestamp\n",
            "0          196      242       3  881250949\n",
            "1          186      302       3  891717742\n",
            "2           22      377       1  878887116\n",
            "3          244       51       2  880606923\n",
            "4          166      346       1  886397596\n",
            "...        ...      ...     ...        ...\n",
            "99995      880      476       3  880175444\n",
            "99996      716      204       5  879795543\n",
            "99997      276     1090       1  874795795\n",
            "99998       13      225       2  882399156\n",
            "99999       12      203       3  879959583\n",
            "\n",
            "[100000 rows x 4 columns]>\n"
          ]
        }
      ],
      "source": [
        "print(Data.describe)"
      ]
    },
    {
      "cell_type": "code",
      "execution_count": null,
      "metadata": {
        "colab": {
          "base_uri": "https://localhost:8080/",
          "height": 470
        },
        "id": "rzLhstF3QT-z",
        "outputId": "25ae8c14-5219-4f60-be1b-971f4294198f"
      },
      "outputs": [
        {
          "data": {
            "image/png": "[encoded data removed]",
            "text/plain": [
              "<Figure size 640x480 with 4 Axes>"
            ]
          },
          "metadata": {},
          "output_type": "display_data"
        }
      ],
      "source": [
        "Data.hist()\n",
        "plt.show()"
      ]
    },
    {
      "cell_type": "code",
      "execution_count": null,
      "metadata": {
        "colab": {
          "base_uri": "https://localhost:8080/"
        },
        "id": "6P6u5y5RQD4Z",
        "outputId": "6174c2f0-2e08-4a6e-9815-0530ae75245a"
      },
      "outputs": [
        {
          "name": "stdout",
          "output_type": "stream",
          "text": [
            "<bound method Series.isnull of 0        3\n",
            "1        3\n",
            "2        1\n",
            "3        2\n",
            "4        1\n",
            "        ..\n",
            "99995    3\n",
            "99996    5\n",
            "99997    1\n",
            "99998    2\n",
            "99999    3\n",
            "Name: rating, Length: 100000, dtype: int64>\n"
          ]
        }
      ],
      "source": [
        "print(Data.rating.isnull)\n"
      ]
    },
    {
      "cell_type": "markdown",
      "metadata": {
        "id": "2YuHap2LQTGQ"
      },
      "source": [
        "# *Análisis de datos*\n",
        "\n",
        "Describe la forma de los datos, ¿como estan distribuidos? ¿Cuantas valoraciones hay disponibles?\n",
        "\n",
        "**R: Para las puntuaciones existen una centralización del 27.14 % para la calificación 3 y de 34.17 % para la calificación 4.**\n",
        "\n",
        "**Las cantidad de puntuaciones se centran para cierto grupo de items \"preferenciales\" los cuales son minoria, la mayoria tiene menos de 10000 calificaciones.**\n",
        "\n"
      ]
    },
    {
      "cell_type": "markdown",
      "metadata": {
        "id": "gepcPrxiRBs_"
      },
      "source": [
        "# Modelo 1: aleatorio\n",
        "\n"
      ]
    },
    {
      "cell_type": "code",
      "execution_count": null,
      "metadata": {
        "id": "x3-QakmgWfxY"
      },
      "outputs": [],
      "source": [
        "# Crear el objeto para el modelo\n",
        "ModAl = NormalPredictor()"
      ]
    },
    {
      "cell_type": "code",
      "execution_count": null,
      "metadata": {
        "colab": {
          "base_uri": "https://localhost:8080/"
        },
        "id": "Q2SEELQbZ8g7",
        "outputId": "2f8a9eb6-80cd-4e52-fc42-90469543a5a3"
      },
      "outputs": [
        {
          "name": "stdout",
          "output_type": "stream",
          "text": [
            "Evaluating RMSE of algorithm NormalPredictor on 5 split(s).\n",
            "\n",
            "                  Fold 1  Fold 2  Fold 3  Fold 4  Fold 5  Mean    Std     \n",
            "RMSE (testset)    1.5044  1.5210  1.5253  1.5375  1.5186  1.5214  0.0107  \n",
            "Fit time          0.17    0.14    0.14    0.17    0.14    0.15    0.01    \n",
            "Test time         0.09    0.08    0.09    0.09    0.68    0.21    0.23    \n",
            "\n",
            "\n",
            "Entrenamiento del modelo finalizado con éxito!\n"
          ]
        }
      ],
      "source": [
        "#Validacion cruzada para k = 5\n",
        "#Iteraciones, midiendo el RECM\n",
        "Rmodel = cross_validate(ModAl, db, measures=['RMSE'], cv=5, verbose=True)\n",
        "print('\\n\\nEntrenamiento del modelo finalizado con éxito!')"
      ]
    },
    {
      "cell_type": "markdown",
      "metadata": {
        "id": "VQqEA_BTeHJQ"
      },
      "source": [
        "# Modelo 2: Filtrado colaborativo en usuarios\n",
        "\n",
        "Creacion Modelo KNNBasic"
      ]
    },
    {
      "cell_type": "code",
      "execution_count": null,
      "metadata": {
        "id": "YS2Q58Jieaqa"
      },
      "outputs": [],
      "source": [
        "#Creación del objeto para el modelo con base en usuarios\n",
        "ModeloUsuarios = KNNBasic(sim_options={'user_based': True})"
      ]
    },
    {
      "cell_type": "code",
      "execution_count": null,
      "metadata": {
        "colab": {
          "base_uri": "https://localhost:8080/"
        },
        "id": "FNrwqGcaei9f",
        "outputId": "01d209bb-2364-4513-9ca8-147d51f10ea4"
      },
      "outputs": [
        {
          "name": "stdout",
          "output_type": "stream",
          "text": [
            "Computing the msd similarity matrix...\n",
            "Done computing similarity matrix.\n",
            "Computing the msd similarity matrix...\n",
            "Done computing similarity matrix.\n",
            "Computing the msd similarity matrix...\n",
            "Done computing similarity matrix.\n",
            "Computing the msd similarity matrix...\n",
            "Done computing similarity matrix.\n",
            "Computing the msd similarity matrix...\n",
            "Done computing similarity matrix.\n",
            "Evaluating RMSE of algorithm KNNBasic on 5 split(s).\n",
            "\n",
            "                  Fold 1  Fold 2  Fold 3  Fold 4  Fold 5  Mean    Std     \n",
            "RMSE (testset)    0.9810  0.9779  0.9803  0.9731  0.9852  0.9795  0.0040  \n",
            "Fit time          0.51    0.38    0.37    0.48    0.36    0.42    0.06    \n",
            "Test time         3.23    3.15    3.42    5.05    3.15    3.60    0.73    \n",
            "\n",
            "\n",
            "Entrenamiento del modelo finalizado con éxito!\n"
          ]
        }
      ],
      "source": [
        "#Entrenaremos los datos usando validación cruzada k=5 iteraciones\n",
        "#Midiendo el RECM\n",
        "UsuariosRes = cross_validate(ModeloUsuarios, db, measures=['RMSE'], cv=5, verbose=True)\n",
        "print('\\n\\nEntrenamiento del modelo finalizado con éxito!')"
      ]
    },
    {
      "cell_type": "markdown",
      "metadata": {
        "id": "h0s2lfvlgGoS"
      },
      "source": [
        "# Modelo 3: Filtrado colaborativo basado en ítems\n",
        "\n",
        "Creación Modelo KNNBasic"
      ]
    },
    {
      "cell_type": "code",
      "execution_count": null,
      "metadata": {
        "id": "uXJpO7tYggW9"
      },
      "outputs": [],
      "source": [
        "#Creacion del modelo\n",
        "ModeloItems = KNNBasic(sim_options={'user_based': True})"
      ]
    },
    {
      "cell_type": "code",
      "execution_count": null,
      "metadata": {
        "colab": {
          "base_uri": "https://localhost:8080/"
        },
        "id": "-sWmMbnugxZB",
        "outputId": "ac82663f-2060-4d94-f93b-9d005fd87826"
      },
      "outputs": [
        {
          "name": "stdout",
          "output_type": "stream",
          "text": [
            "Computing the msd similarity matrix...\n",
            "Done computing similarity matrix.\n",
            "Computing the msd similarity matrix...\n",
            "Done computing similarity matrix.\n",
            "Computing the msd similarity matrix...\n",
            "Done computing similarity matrix.\n",
            "Computing the msd similarity matrix...\n",
            "Done computing similarity matrix.\n",
            "Computing the msd similarity matrix...\n",
            "Done computing similarity matrix.\n",
            "Evaluating RMSE of algorithm KNNBasic on 5 split(s).\n",
            "\n",
            "                  Fold 1  Fold 2  Fold 3  Fold 4  Fold 5  Mean    Std     \n",
            "RMSE (testset)    0.9762  0.9830  0.9771  0.9823  0.9761  0.9790  0.0031  \n",
            "Fit time          0.38    0.50    0.37    0.36    0.36    0.39    0.05    \n",
            "Test time         3.07    5.15    3.12    3.14    4.70    3.83    0.90    \n",
            "Entrenamiento terminado\n"
          ]
        }
      ],
      "source": [
        "ItemRes = cross_validate(ModeloItems, db, measures=['RMSE'], cv=5, verbose=True)\n",
        "print(\"Entrenamiento terminado\")"
      ]
    },
    {
      "cell_type": "markdown",
      "metadata": {
        "id": "36_dffDZhXhS"
      },
      "source": [
        "**<h1>PREGUNTA 2: MODELOS DE FILTRADO COLABORATIVO</h1>**\n",
        "\n",
        "# Compare los resultados de los modelos de filtrado colaborativo basados en usuarios y en items. ¿Qué diferencias encuentra entre los dos? ¿Qué diferencias encuentra entre estos modelos y el modelo aleatorio? ¿Puede explicar qué podría haber causado estas diferencias en los resultados?\n",
        "\n",
        "  **R: Tomando el RMSE tiene una mejor afinidad el Modelo de filtrado colaborativo basado en usuarios que en Items.**\n",
        "\n",
        "  **Ya que en el modelo de filtrado colaborativo basado en usuarios toma de referencia las relaciones (preferencias) entre usuarios, los datos más uniformes nos ayudan a un análisis más homogeneo a diferencia de el análisis de filtrado basado en Items, donde la distribución de ponderaciones en Items varia mucho y decrece con cada Item**\n",
        "\n",
        "  **En resumen existe mayor capacidad de análisis en el filtrado de usuarios ya que existe mas información acerca de los usuarios que de los Items, y el modelo aleatorio simplemente realiza recomendaciones simples donde puede influir mucho en la forma de los datos, sin embargo sigue siendo una relación aleatoria.**\n"
      ]
    },
    {
      "cell_type": "markdown",
      "metadata": {
        "id": "hbCfdOjrhhIm"
      },
      "source": [
        "# Modelo 4: factorización de matriz"
      ]
    },
    {
      "cell_type": "code",
      "execution_count": null,
      "metadata": {
        "id": "bSQhzjABhgNL"
      },
      "outputs": [],
      "source": [
        "#Creación del objeto para el modelo\n",
        "\n",
        "ModeloMatrix = SVD()"
      ]
    },
    {
      "cell_type": "code",
      "execution_count": null,
      "metadata": {
        "colab": {
          "base_uri": "https://localhost:8080/"
        },
        "id": "bHVQBh_kh31j",
        "outputId": "c87da827-8e27-4f0b-ddbe-523f19f428b8"
      },
      "outputs": [
        {
          "name": "stdout",
          "output_type": "stream",
          "text": [
            "Evaluating RMSE of algorithm SVD on 5 split(s).\n",
            "\n",
            "                  Fold 1  Fold 2  Fold 3  Fold 4  Fold 5  Mean    Std     \n",
            "RMSE (testset)    0.9356  0.9269  0.9454  0.9313  0.9377  0.9354  0.0062  \n",
            "Fit time          1.47    1.44    1.46    1.45    2.22    1.61    0.31    \n",
            "Test time         0.12    0.13    0.12    0.17    0.22    0.15    0.04    \n",
            "entrenamiento terminado\n"
          ]
        }
      ],
      "source": [
        "model_matrix_results = cross_validate(ModeloMatrix, db, measures=['RMSE'], cv=5, verbose=True)\n",
        "print(\"entrenamiento terminado\")"
      ]
    },
    {
      "cell_type": "markdown",
      "metadata": {
        "id": "81JWHOYaiZZl"
      },
      "source": [
        "**<h1>PREGUNTA 3: MODELO DE FACTORIZACIÓN DE MATRIZ</h1>**\n",
        "\n",
        "#El modelo de factorización de matriz es diferente de los modelos de filtrado colaborativo. Describa brevemente en qué consisten dichas diferencias. También, compare de nuevo el RECM respecto al resto de modelos. ¿Mejora? ¿Puede ofrecer alguna explicación de por qué mejora/empeora?\n",
        "\n",
        "**R: El modelo de factorización de matriz descompone el conjunto de datos en subconjuntos que se pueden tratar \"independientemente\", lo que conlleva a un análisis mas preciso. A diferencia de los modelos de filtrado colaborativo, donde el análisis depende en gran medida de la forma del conjunto de datos que se este tratando así como su validez propia.**\n"
      ]
    },
    {
      "cell_type": "markdown",
      "metadata": {
        "id": "A8rOrYv8ieqJ"
      },
      "source": [
        "# Precisión y Exhaustividad;\n",
        "\n",
        "Calcularemos la precisión y la exhaustividad para 2 valores de k: 5 y 10.\n",
        "Primero, definimos una función que toma algunas predicciones, un valor de `k` y un parámetro de umbral. Este código ha sido adaptado de la siguiente [fuente](http://surprise.readthedocs.io/en/stable/FAQ.html?highlight=precision#how-to-compute-precision-k-and-recall-k)."
      ]
    },
    {
      "cell_type": "code",
      "execution_count": null,
      "metadata": {
        "id": "pGcn-eHcjBjf"
      },
      "outputs": [],
      "source": [
        "def precision_recall_at_k(predictions, k=10, threshold=3.5):\n",
        "    '''Devuelve la precision y la exhaustividad @k para cada usuario'''\n",
        "\n",
        "    # Primero asocie las predicciones a cada usuario\n",
        "    user_est_true = dict()\n",
        "    for uid, _, true_r, est, _ in predictions:\n",
        "        current = user_est_true.get(uid, list())\n",
        "        current.append((est, true_r))\n",
        "        user_est_true[uid] = current\n",
        "\n",
        "    precisions = dict()\n",
        "    recalls = dict()\n",
        "    for uid, user_ratings in user_est_true.items():\n",
        "\n",
        "        # Ordene las valoraciones de los usuarios por su valor estimado\n",
        "        user_ratings.sort(key=lambda x: x[0], reverse=True)\n",
        "\n",
        "        # Número de ítems relevantes\n",
        "        n_rel = sum((true_r >= threshold) for (_, true_r) in user_ratings)\n",
        "\n",
        "        # Número de ítems recomendados en el top k\n",
        "        n_rec_k = sum((est >= threshold) for (est, _) in user_ratings[:k])\n",
        "\n",
        "        # Número de ítems relevantes y recomendados en el top k\n",
        "        n_rel_and_rec_k = sum(((true_r >= threshold) and (est >= threshold))\n",
        "                              for (est, true_r) in user_ratings[:k])\n",
        "\n",
        "        # Precision@k: proporción de ítems recomendados que son relevantes\n",
        "        precisions[uid] = n_rel_and_rec_k / n_rec_k if n_rec_k != 0 else 1\n",
        "\n",
        "        # Exhaustividad@K: proporción de ítems relevantes que se recomiendan\n",
        "        recalls[uid] = n_rel_and_rec_k / n_rel if n_rel != 0 else 1\n",
        "\n",
        "    return precisions, recalls\n",
        "\n",
        "print('\\n\\nFunción creada con éxito!')"
      ]
    },
    {
      "cell_type": "markdown",
      "metadata": {
        "id": "ox-1bolyjGPT"
      },
      "source": [
        "A continuación, calculamos la precisión y exhaustividad k = 5 y k = 10. Usamos validación cruzada con 5 iteraciones de nuevo para promediar los resultados a lo largo de toda la base de datos.\n"
      ]
    },
    {
      "cell_type": "code",
      "execution_count": 32,
      "metadata": {
        "colab": {
          "base_uri": "https://localhost:8080/"
        },
        "id": "1QwGL0uPjN6x",
        "outputId": "78983b5c-e19b-4eae-f3a1-289e7603b88c"
      },
      "outputs": [
        {
          "output_type": "stream",
          "name": "stdout",
          "text": [
            ">>> k=5, modelo=modelo aleatorio\n",
            ">>> precisión: 0.5896\n",
            ">>> exhaustividad  : 0.3419\n",
            "\n",
            "\n",
            ">>> k=5, modelo=filtrado colaborativo usuario\n",
            "Computing the msd similarity matrix...\n",
            "Done computing similarity matrix.\n",
            "Computing the msd similarity matrix...\n",
            "Done computing similarity matrix.\n",
            "Computing the msd similarity matrix...\n",
            "Done computing similarity matrix.\n",
            "Computing the msd similarity matrix...\n",
            "Done computing similarity matrix.\n",
            "Computing the msd similarity matrix...\n",
            "Done computing similarity matrix.\n",
            ">>> precisión: 0.7628\n",
            ">>> exhaustividad  : 0.4553\n",
            "\n",
            "\n",
            ">>> k=5, modelo=filtrado colaborativo ítem\n",
            "Computing the msd similarity matrix...\n",
            "Done computing similarity matrix.\n",
            "Computing the msd similarity matrix...\n",
            "Done computing similarity matrix.\n",
            "Computing the msd similarity matrix...\n",
            "Done computing similarity matrix.\n",
            "Computing the msd similarity matrix...\n",
            "Done computing similarity matrix.\n",
            "Computing the msd similarity matrix...\n",
            "Done computing similarity matrix.\n",
            ">>> precisión: 0.7657\n",
            ">>> exhaustividad  : 0.4564\n",
            "\n",
            "\n",
            ">>> k=5, modelo=factorización de matriz\n",
            ">>> precisión: 0.7831\n",
            ">>> exhaustividad  : 0.4321\n",
            "\n",
            "\n",
            ">>> k=10, modelo=modelo aleatorio\n",
            ">>> precisión: 0.5856\n",
            ">>> exhaustividad  : 0.4343\n",
            "\n",
            "\n",
            ">>> k=10, modelo=filtrado colaborativo usuario\n",
            "Computing the msd similarity matrix...\n",
            "Done computing similarity matrix.\n",
            "Computing the msd similarity matrix...\n",
            "Done computing similarity matrix.\n",
            "Computing the msd similarity matrix...\n",
            "Done computing similarity matrix.\n",
            "Computing the msd similarity matrix...\n",
            "Done computing similarity matrix.\n",
            "Computing the msd similarity matrix...\n",
            "Done computing similarity matrix.\n",
            ">>> precisión: 0.7356\n",
            ">>> exhaustividad  : 0.5889\n",
            "\n",
            "\n",
            ">>> k=10, modelo=filtrado colaborativo ítem\n",
            "Computing the msd similarity matrix...\n",
            "Done computing similarity matrix.\n",
            "Computing the msd similarity matrix...\n",
            "Done computing similarity matrix.\n",
            "Computing the msd similarity matrix...\n",
            "Done computing similarity matrix.\n",
            "Computing the msd similarity matrix...\n",
            "Done computing similarity matrix.\n",
            "Computing the msd similarity matrix...\n",
            "Done computing similarity matrix.\n",
            ">>> precisión: 0.7385\n",
            ">>> exhaustividad  : 0.5899\n",
            "\n",
            "\n",
            ">>> k=10, modelo=factorización de matriz\n",
            ">>> precisión: 0.7596\n",
            ">>> exhaustividad  : 0.5601\n",
            "\n",
            "\n",
            "\n",
            "\n",
            "Cálculo de la precisión y la exhaustividad finalizado con éxito!\n"
          ]
        }
      ],
      "source": [
        "# Cree una lista de los valores de k\n",
        "K = [5, 10]\n",
        "\n",
        "# Cree una lista de modelos\n",
        "\n",
        "models = [ModAl, ModeloUsuarios, ModeloItems, ModeloMatrix]\n",
        "model_names = ['modelo aleatorio', 'filtrado colaborativo usuario',\n",
        "               'filtrado colaborativo ítem','factorización de matriz']\n",
        "\n",
        "# Cree un objeto de validación cruzada con k-iteraciones (diferente \"k\")\n",
        "k_fold = KFold(n_splits=5)\n",
        "\n",
        "for k in K:\n",
        "    for i, model in enumerate(models):\n",
        "        print(f'>>> k={k}, modelo={model_names[i]}')\n",
        "        precision = []\n",
        "        exhaustividad = []\n",
        "        for trainset, testset in k_fold.split(db):\n",
        "            model.fit(trainset)\n",
        "            predictions = model.test(testset, verbose=False)\n",
        "            precisions, recalls = precision_recall_at_k(predictions, k=k, threshold=3.5)\n",
        "\n",
        "            # La precisión y la exhaustividad pueden promediarse sobre todos los usuarios\n",
        "            precision.append(sum(prec for prec in precisions.values()) / len(precisions))\n",
        "            exhaustividad.append(sum(rec for rec in recalls.values()) / len(recalls))\n",
        "\n",
        "        print('>>> precisión:', round(sum(precision) / len(precision), 4))\n",
        "        print('>>> exhaustividad  :', round(sum(exhaustividad) / len(exhaustividad), 4))\n",
        "        print('\\n')\n",
        "\n",
        "print('\\n\\nCálculo de la precisión y la exhaustividad finalizado con éxito!')"
      ]
    },
    {
      "cell_type": "markdown",
      "metadata": {
        "id": "TId82NkjjTGn"
      },
      "source": [
        "**<h1>PREGUNTA 4: PRECISIÓN/EXHAUSTIVIDAD</h1>**\n",
        "\n",
        "# Calcule la precisión y la exhaustividad, para cada uno de los 4 modelos, con `k` = 5 y 10. Es decir, 2 x 2 x 4 = 16 valores numéricos. ¿Nota algo diferente en estos valores? ¿Algo diferente de los valores de RECM calculados anteriormente?\n",
        "\n",
        "**R Incrementan tanto su precisión como su exhaustividad, el modelo con mayor precisión y exhaustividad es el modelo de factorización de matriz**"
      ]
    },
    {
      "cell_type": "markdown",
      "metadata": {
        "id": "Qh70VGkxjaO5"
      },
      "source": [
        "##  Top-`n` Predicciones\n",
        "\n",
        "Finalmente, queremos ver cómo son las recomendaciones y las estimaciones de valoraciones de los usuarios."
      ]
    },
    {
      "cell_type": "code",
      "execution_count": null,
      "metadata": {
        "id": "Y_zC_t4njp7v"
      },
      "outputs": [],
      "source": [
        "def get_top_n(predictions, n=5):\n",
        "    '''Devuelve las top-N recomendaciones para cada usuario de un conjunto de predicciones.\n",
        "\n",
        "    Argumentos:\n",
        "        predictions(lista de objetos de predicción): lista de la predicciones,\n",
        "            tal y como se obtienen del método \"test\" de un algoritmo\n",
        "        n(int): número de recomendaciones a mostrar para cada usuario.\n",
        "            Por defecto es 10.\n",
        "\n",
        "    Salidas:\n",
        "    Un diccionario donde las keys son las IDs de los usuarios y los valores son\n",
        "    una lista de tuples:\n",
        "        [(item id, estimación de la valoración), ...] de tamaño n.\n",
        "    '''\n",
        "\n",
        "    # Primero asocie las predicciones a cada usuario.\n",
        "    top_n = dict()\n",
        "    for uid, iid, true_r, est, _ in predictions:\n",
        "        current = top_n.get(uid, [])\n",
        "        current.append((iid, est))\n",
        "        top_n[uid] = current\n",
        "\n",
        "    # A continuación ordene las predicciones para cada usuario y obtenga las\n",
        "    # n predicciones más elevadas\n",
        "    for uid, user_ratings in top_n.items():\n",
        "        user_ratings.sort(key=lambda x: x[1], reverse=True)\n",
        "        top_n[uid] = user_ratings[:n]\n",
        "\n",
        "    return top_n\n",
        "\n",
        "print('Función creada con éxito!')"
      ]
    },
    {
      "cell_type": "markdown",
      "metadata": {
        "id": "vfzDYyknjuNW"
      },
      "source": [
        "Por último, ejecutamos esta función en cada uno de los modelos, primero entrenando en **la totalidad** de los datos disponibles, y después prediciendo los datos que faltan. Usamos `n` = 5, pero puede elegir cualquier valor razonable de n."
      ]
    },
    {
      "cell_type": "code",
      "execution_count": 29,
      "metadata": {
        "id": "yy8deVNUj85U",
        "colab": {
          "base_uri": "https://localhost:8080/"
        },
        "outputId": "9ba7deb6-83fc-4c96-c5fe-e2776db2a155"
      },
      "outputs": [
        {
          "output_type": "stream",
          "name": "stdout",
          "text": [
            "\n",
            "\n",
            "Conjuntos de prueba y entrenamiento creados con éxito!\n"
          ]
        }
      ],
      "source": [
        "trainset = db.build_full_trainset()\n",
        "testset = trainset.build_anti_testset()\n",
        "print('\\n\\nConjuntos de prueba y entrenamiento creados con éxito!')"
      ]
    },
    {
      "cell_type": "code",
      "execution_count": null,
      "metadata": {
        "id": "5H_ekoyJj_17"
      },
      "outputs": [],
      "source": [
        "for modelo in models:\n",
        "    modelo.fit(trainset)\n",
        "    predictions = modelo.test(testset)\n",
        "    top_n = get_top_n(predictions, n=5)\n",
        "    # Muestre el primer usuario de la base de datos\n",
        "    user = list(top_n.keys())[0]\n",
        "    print(f'modelo: {modelo}, {user}: {top_n[user]}')\n",
        "\n",
        "print('\\n\\nCálculo de las top-N predicciones realizado con éxito!')"
      ]
    },
    {
      "cell_type": "markdown",
      "metadata": {
        "id": "DLQCBKM7kEDe"
      },
      "source": [
        "**<h1>PREGUNTA 5: TOP-N PREDICCIONES</h1>**\n",
        "\n",
        "# ¿Tienen sentido las top-n predicciones que ha obtenido? ¿Cuál es el valor de las valoraciones (1-5) de estas predicciones? ¿Cómo podría usar estas predicciones en la vida real si estuviera intentando construir un sistema de recomendación genérico para una compañía?"
      ]
    },
    {
      "cell_type": "markdown",
      "metadata": {
        "id": "7LONYH3rkNWN"
      },
      "source": [
        "# Análisis adicional: K optimo segun RMSE:"
      ]
    },
    {
      "cell_type": "code",
      "execution_count": 31,
      "metadata": {
        "id": "QxGcBFIWkUgR",
        "colab": {
          "base_uri": "https://localhost:8080/"
        },
        "outputId": "d9f299d6-5fac-4868-af97-072a833f5b92"
      },
      "outputs": [
        {
          "output_type": "stream",
          "name": "stdout",
          "text": [
            "Computing the msd similarity matrix...\n",
            "Done computing similarity matrix.\n",
            "Computing the msd similarity matrix...\n",
            "Done computing similarity matrix.\n",
            "Computing the msd similarity matrix...\n",
            "Done computing similarity matrix.\n",
            "Computing the msd similarity matrix...\n",
            "Done computing similarity matrix.\n",
            "Computing the msd similarity matrix...\n",
            "Done computing similarity matrix.\n",
            "0.9780221953472392\n",
            "Computing the msd similarity matrix...\n",
            "Done computing similarity matrix.\n",
            "Computing the msd similarity matrix...\n",
            "Done computing similarity matrix.\n",
            "Computing the msd similarity matrix...\n",
            "Done computing similarity matrix.\n",
            "Computing the msd similarity matrix...\n",
            "Done computing similarity matrix.\n",
            "Computing the msd similarity matrix...\n",
            "Done computing similarity matrix.\n",
            "Computing the msd similarity matrix...\n",
            "Done computing similarity matrix.\n",
            "Computing the msd similarity matrix...\n",
            "Done computing similarity matrix.\n",
            "Computing the msd similarity matrix...\n",
            "Done computing similarity matrix.\n",
            "Computing the msd similarity matrix...\n",
            "Done computing similarity matrix.\n",
            "Computing the msd similarity matrix...\n",
            "Done computing similarity matrix.\n",
            "0.9718577731250303\n",
            "Computing the msd similarity matrix...\n",
            "Done computing similarity matrix.\n",
            "Computing the msd similarity matrix...\n",
            "Done computing similarity matrix.\n",
            "Computing the msd similarity matrix...\n",
            "Done computing similarity matrix.\n",
            "Computing the msd similarity matrix...\n",
            "Done computing similarity matrix.\n",
            "Computing the msd similarity matrix...\n",
            "Done computing similarity matrix.\n",
            "Computing the msd similarity matrix...\n",
            "Done computing similarity matrix.\n",
            "Computing the msd similarity matrix...\n",
            "Done computing similarity matrix.\n",
            "Computing the msd similarity matrix...\n",
            "Done computing similarity matrix.\n",
            "Computing the msd similarity matrix...\n",
            "Done computing similarity matrix.\n",
            "Computing the msd similarity matrix...\n",
            "Done computing similarity matrix.\n",
            "Computing the msd similarity matrix...\n",
            "Done computing similarity matrix.\n",
            "Computing the msd similarity matrix...\n",
            "Done computing similarity matrix.\n",
            "Computing the msd similarity matrix...\n",
            "Done computing similarity matrix.\n",
            "Computing the msd similarity matrix...\n",
            "Done computing similarity matrix.\n",
            "Computing the msd similarity matrix...\n",
            "Done computing similarity matrix.\n",
            "Computing the msd similarity matrix...\n",
            "Done computing similarity matrix.\n",
            "Computing the msd similarity matrix...\n",
            "Done computing similarity matrix.\n",
            "Computing the msd similarity matrix...\n",
            "Done computing similarity matrix.\n",
            "Computing the msd similarity matrix...\n",
            "Done computing similarity matrix.\n",
            "Computing the msd similarity matrix...\n",
            "Done computing similarity matrix.\n",
            "0.9689783437427201\n",
            "Computing the msd similarity matrix...\n",
            "Done computing similarity matrix.\n",
            "Computing the msd similarity matrix...\n",
            "Done computing similarity matrix.\n",
            "Computing the msd similarity matrix...\n",
            "Done computing similarity matrix.\n",
            "Computing the msd similarity matrix...\n",
            "Done computing similarity matrix.\n",
            "Computing the msd similarity matrix...\n",
            "Done computing similarity matrix.\n",
            "Computing the msd similarity matrix...\n",
            "Done computing similarity matrix.\n",
            "Computing the msd similarity matrix...\n",
            "Done computing similarity matrix.\n",
            "Computing the msd similarity matrix...\n",
            "Done computing similarity matrix.\n",
            "Computing the msd similarity matrix...\n",
            "Done computing similarity matrix.\n",
            "Computing the msd similarity matrix...\n",
            "Done computing similarity matrix.\n",
            "Computing the msd similarity matrix...\n",
            "Done computing similarity matrix.\n",
            "Computing the msd similarity matrix...\n",
            "Done computing similarity matrix.\n",
            "Computing the msd similarity matrix...\n",
            "Done computing similarity matrix.\n",
            "Computing the msd similarity matrix...\n",
            "Done computing similarity matrix.\n",
            "Computing the msd similarity matrix...\n",
            "Done computing similarity matrix.\n",
            "Computing the msd similarity matrix...\n",
            "Done computing similarity matrix.\n",
            "Computing the msd similarity matrix...\n",
            "Done computing similarity matrix.\n",
            "Computing the msd similarity matrix...\n",
            "Done computing similarity matrix.\n",
            "Computing the msd similarity matrix...\n",
            "Done computing similarity matrix.\n",
            "Computing the msd similarity matrix...\n",
            "Done computing similarity matrix.\n",
            "Computing the msd similarity matrix...\n",
            "Done computing similarity matrix.\n",
            "Computing the msd similarity matrix...\n",
            "Done computing similarity matrix.\n",
            "Computing the msd similarity matrix...\n",
            "Done computing similarity matrix.\n",
            "Computing the msd similarity matrix...\n",
            "Done computing similarity matrix.\n",
            "Computing the msd similarity matrix...\n",
            "Done computing similarity matrix.\n",
            "Computing the msd similarity matrix...\n",
            "Done computing similarity matrix.\n",
            "Computing the msd similarity matrix...\n",
            "Done computing similarity matrix.\n",
            "Computing the msd similarity matrix...\n",
            "Done computing similarity matrix.\n",
            "Computing the msd similarity matrix...\n",
            "Done computing similarity matrix.\n",
            "Computing the msd similarity matrix...\n",
            "Done computing similarity matrix.\n",
            "Computing the msd similarity matrix...\n",
            "Done computing similarity matrix.\n",
            "Computing the msd similarity matrix...\n",
            "Done computing similarity matrix.\n",
            "Computing the msd similarity matrix...\n",
            "Done computing similarity matrix.\n",
            "Computing the msd similarity matrix...\n",
            "Done computing similarity matrix.\n",
            "Computing the msd similarity matrix...\n",
            "Done computing similarity matrix.\n",
            "Computing the msd similarity matrix...\n",
            "Done computing similarity matrix.\n",
            "Computing the msd similarity matrix...\n",
            "Done computing similarity matrix.\n",
            "Computing the msd similarity matrix...\n",
            "Done computing similarity matrix.\n",
            "Computing the msd similarity matrix...\n",
            "Done computing similarity matrix.\n",
            "Computing the msd similarity matrix...\n",
            "Done computing similarity matrix.\n",
            "Computing the msd similarity matrix...\n",
            "Done computing similarity matrix.\n",
            "Computing the msd similarity matrix...\n",
            "Done computing similarity matrix.\n",
            "Computing the msd similarity matrix...\n",
            "Done computing similarity matrix.\n",
            "Computing the msd similarity matrix...\n",
            "Done computing similarity matrix.\n",
            "Computing the msd similarity matrix...\n",
            "Done computing similarity matrix.\n",
            "Computing the msd similarity matrix...\n",
            "Done computing similarity matrix.\n",
            "Computing the msd similarity matrix...\n",
            "Done computing similarity matrix.\n",
            "Computing the msd similarity matrix...\n",
            "Done computing similarity matrix.\n",
            "Computing the msd similarity matrix...\n",
            "Done computing similarity matrix.\n",
            "Computing the msd similarity matrix...\n",
            "Done computing similarity matrix.\n",
            "0.9674363168701018\n",
            "Computing the msd similarity matrix...\n",
            "Done computing similarity matrix.\n",
            "Computing the msd similarity matrix...\n",
            "Done computing similarity matrix.\n",
            "Computing the msd similarity matrix...\n",
            "Done computing similarity matrix.\n",
            "Computing the msd similarity matrix...\n",
            "Done computing similarity matrix.\n",
            "Computing the msd similarity matrix...\n",
            "Done computing similarity matrix.\n",
            "Computing the msd similarity matrix...\n",
            "Done computing similarity matrix.\n",
            "Computing the msd similarity matrix...\n",
            "Done computing similarity matrix.\n",
            "Computing the msd similarity matrix...\n",
            "Done computing similarity matrix.\n",
            "Computing the msd similarity matrix...\n",
            "Done computing similarity matrix.\n",
            "Computing the msd similarity matrix...\n",
            "Done computing similarity matrix.\n",
            "Computing the msd similarity matrix...\n",
            "Done computing similarity matrix.\n",
            "Computing the msd similarity matrix...\n",
            "Done computing similarity matrix.\n",
            "Computing the msd similarity matrix...\n",
            "Done computing similarity matrix.\n",
            "Computing the msd similarity matrix...\n",
            "Done computing similarity matrix.\n",
            "Computing the msd similarity matrix...\n",
            "Done computing similarity matrix.\n",
            "Computing the msd similarity matrix...\n",
            "Done computing similarity matrix.\n",
            "Computing the msd similarity matrix...\n",
            "Done computing similarity matrix.\n",
            "Computing the msd similarity matrix...\n",
            "Done computing similarity matrix.\n",
            "Computing the msd similarity matrix...\n",
            "Done computing similarity matrix.\n",
            "Computing the msd similarity matrix...\n",
            "Done computing similarity matrix.\n",
            "Computing the msd similarity matrix...\n",
            "Done computing similarity matrix.\n",
            "Computing the msd similarity matrix...\n",
            "Done computing similarity matrix.\n",
            "Computing the msd similarity matrix...\n",
            "Done computing similarity matrix.\n",
            "Computing the msd similarity matrix...\n",
            "Done computing similarity matrix.\n",
            "Computing the msd similarity matrix...\n",
            "Done computing similarity matrix.\n",
            "Computing the msd similarity matrix...\n",
            "Done computing similarity matrix.\n",
            "Computing the msd similarity matrix...\n",
            "Done computing similarity matrix.\n",
            "Computing the msd similarity matrix...\n",
            "Done computing similarity matrix.\n",
            "Computing the msd similarity matrix...\n",
            "Done computing similarity matrix.\n",
            "Computing the msd similarity matrix...\n",
            "Done computing similarity matrix.\n",
            "Computing the msd similarity matrix...\n",
            "Done computing similarity matrix.\n",
            "Computing the msd similarity matrix...\n",
            "Done computing similarity matrix.\n",
            "Computing the msd similarity matrix...\n",
            "Done computing similarity matrix.\n",
            "Computing the msd similarity matrix...\n",
            "Done computing similarity matrix.\n",
            "Computing the msd similarity matrix...\n",
            "Done computing similarity matrix.\n",
            "Computing the msd similarity matrix...\n",
            "Done computing similarity matrix.\n",
            "Computing the msd similarity matrix...\n",
            "Done computing similarity matrix.\n",
            "Computing the msd similarity matrix...\n",
            "Done computing similarity matrix.\n",
            "Computing the msd similarity matrix...\n",
            "Done computing similarity matrix.\n",
            "Computing the msd similarity matrix...\n",
            "Done computing similarity matrix.\n",
            "Computing the msd similarity matrix...\n",
            "Done computing similarity matrix.\n",
            "Computing the msd similarity matrix...\n",
            "Done computing similarity matrix.\n",
            "Computing the msd similarity matrix...\n",
            "Done computing similarity matrix.\n",
            "Computing the msd similarity matrix...\n",
            "Done computing similarity matrix.\n",
            "Computing the msd similarity matrix...\n",
            "Done computing similarity matrix.\n",
            "Computing the msd similarity matrix...\n",
            "Done computing similarity matrix.\n",
            "Computing the msd similarity matrix...\n",
            "Done computing similarity matrix.\n",
            "Computing the msd similarity matrix...\n",
            "Done computing similarity matrix.\n",
            "Computing the msd similarity matrix...\n",
            "Done computing similarity matrix.\n",
            "Computing the msd similarity matrix...\n",
            "Done computing similarity matrix.\n",
            "Computing the msd similarity matrix...\n",
            "Done computing similarity matrix.\n",
            "Computing the msd similarity matrix...\n",
            "Done computing similarity matrix.\n",
            "Computing the msd similarity matrix...\n",
            "Done computing similarity matrix.\n",
            "Computing the msd similarity matrix...\n",
            "Done computing similarity matrix.\n",
            "Computing the msd similarity matrix...\n",
            "Done computing similarity matrix.\n",
            "Computing the msd similarity matrix...\n",
            "Done computing similarity matrix.\n",
            "Computing the msd similarity matrix...\n",
            "Done computing similarity matrix.\n",
            "Computing the msd similarity matrix...\n",
            "Done computing similarity matrix.\n",
            "Computing the msd similarity matrix...\n",
            "Done computing similarity matrix.\n",
            "Computing the msd similarity matrix...\n",
            "Done computing similarity matrix.\n",
            "Computing the msd similarity matrix...\n",
            "Done computing similarity matrix.\n",
            "Computing the msd similarity matrix...\n",
            "Done computing similarity matrix.\n",
            "Computing the msd similarity matrix...\n",
            "Done computing similarity matrix.\n",
            "Computing the msd similarity matrix...\n",
            "Done computing similarity matrix.\n",
            "Computing the msd similarity matrix...\n",
            "Done computing similarity matrix.\n",
            "Computing the msd similarity matrix...\n",
            "Done computing similarity matrix.\n",
            "Computing the msd similarity matrix...\n",
            "Done computing similarity matrix.\n",
            "Computing the msd similarity matrix...\n",
            "Done computing similarity matrix.\n",
            "Computing the msd similarity matrix...\n",
            "Done computing similarity matrix.\n",
            "Computing the msd similarity matrix...\n",
            "Done computing similarity matrix.\n",
            "Computing the msd similarity matrix...\n",
            "Done computing similarity matrix.\n",
            "Computing the msd similarity matrix...\n",
            "Done computing similarity matrix.\n",
            "Computing the msd similarity matrix...\n",
            "Done computing similarity matrix.\n",
            "Computing the msd similarity matrix...\n",
            "Done computing similarity matrix.\n",
            "Computing the msd similarity matrix...\n",
            "Done computing similarity matrix.\n",
            "Computing the msd similarity matrix...\n",
            "Done computing similarity matrix.\n",
            "Computing the msd similarity matrix...\n",
            "Done computing similarity matrix.\n",
            "Computing the msd similarity matrix...\n",
            "Done computing similarity matrix.\n",
            "Computing the msd similarity matrix...\n",
            "Done computing similarity matrix.\n",
            "Computing the msd similarity matrix...\n",
            "Done computing similarity matrix.\n",
            "Computing the msd similarity matrix...\n",
            "Done computing similarity matrix.\n",
            "Computing the msd similarity matrix...\n",
            "Done computing similarity matrix.\n",
            "Computing the msd similarity matrix...\n",
            "Done computing similarity matrix.\n",
            "Computing the msd similarity matrix...\n",
            "Done computing similarity matrix.\n",
            "Computing the msd similarity matrix...\n",
            "Done computing similarity matrix.\n",
            "Computing the msd similarity matrix...\n",
            "Done computing similarity matrix.\n",
            "Computing the msd similarity matrix...\n",
            "Done computing similarity matrix.\n",
            "Computing the msd similarity matrix...\n",
            "Done computing similarity matrix.\n",
            "Computing the msd similarity matrix...\n",
            "Done computing similarity matrix.\n",
            "Computing the msd similarity matrix...\n",
            "Done computing similarity matrix.\n",
            "Computing the msd similarity matrix...\n",
            "Done computing similarity matrix.\n",
            "Computing the msd similarity matrix...\n",
            "Done computing similarity matrix.\n",
            "Computing the msd similarity matrix...\n",
            "Done computing similarity matrix.\n",
            "Computing the msd similarity matrix...\n",
            "Done computing similarity matrix.\n",
            "Computing the msd similarity matrix...\n",
            "Done computing similarity matrix.\n",
            "Computing the msd similarity matrix...\n",
            "Done computing similarity matrix.\n",
            "Computing the msd similarity matrix...\n",
            "Done computing similarity matrix.\n",
            "Computing the msd similarity matrix...\n",
            "Done computing similarity matrix.\n",
            "Computing the msd similarity matrix...\n",
            "Done computing similarity matrix.\n",
            "Computing the msd similarity matrix...\n",
            "Done computing similarity matrix.\n",
            "0.9668350002641322\n"
          ]
        }
      ],
      "source": [
        "# Evaluar RMSE para los siguientes valores de K\n",
        "# se busca determinar el K óptimo de manera gráfica.\n",
        "# --------------------------------------------------\n",
        "k_value = [5,10,20,50,100]\n",
        "error = list()\n",
        "for i  in k_value:\n",
        "  model_user_results = cross_validate(ModeloUsuarios, db, measures=['RMSE'],cv=i, verbose=False)\n",
        "  error_medio=(model_user_results['test_rmse'].sum())/i\n",
        "  error.append(error_medio)\n",
        "  print(error_medio)"
      ]
    },
    {
      "cell_type": "code",
      "execution_count": 33,
      "metadata": {
        "id": "ZlqDZhW2kXD8",
        "colab": {
          "base_uri": "https://localhost:8080/",
          "height": 472
        },
        "outputId": "1c4921a1-ba50-49f9-bf01-9e20b39a5929"
      },
      "outputs": [
        {
          "output_type": "display_data",
          "data": {
            "text/plain": [
              "<Figure size 640x480 with 1 Axes>"
            ],
            "image/png": "[encoded data removed]"
          },
          "metadata": {}
        }
      ],
      "source": [
        "dicc ={'k_value(K)':k_value, 'error(RMSE)':error}\n",
        "df=pd.DataFrame(dicc)\n",
        "\n",
        "\n",
        "import matplotlib.pyplot as plt\n",
        "import math\n",
        "plt.plot(k_value,error)\n",
        "plt.scatter(k_value, error,marker='o', color='r')\n",
        "annotations=[]\n",
        "for i in range(0,len(error)):\n",
        "  annotations.append('  ('+ str(k_value[i]) + ' , ' + str(round(error[i],4)) +')')\n",
        "for i, label in enumerate(annotations):\n",
        "    plt.text(k_value[i], error[i],label)\n",
        "plt.xlabel('K: Número de Folds (bloques)')\n",
        "plt.ylabel('RMSE: Error cuadrático medio')\n",
        "plt.title('Gráfico K vs RMSE')\n",
        "plt.show()"
      ]
    }
  ],
  "metadata": {
    "colab": {
      "provenance": [],
      "authorship_tag": "ABX9TyME/iIITD5125kpXHx9wDg9",
      "include_colab_link": true
    },
    "kernelspec": {
      "display_name": "Python 3",
      "name": "python3"
    },
    "language_info": {
      "name": "python"
    }
  },
  "nbformat": 4,
  "nbformat_minor": 0
}